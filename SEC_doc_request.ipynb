{
 "cells": [
  {
   "cell_type": "code",
   "execution_count": 6,
   "metadata": {},
   "outputs": [],
   "source": [
    "import requests\n",
    "import pandas as pd\n",
    "\n",
    "# create request header\n",
    "##  SEC uses no key or codes, but rather the email.\n",
    "\n",
    "headers = {'User-Agent': \"ichessur@gmail.com\"}\n",
    "\n",
    "# Companies data \n",
    "# At this link, there are all the CIK numbers it's of 10 digit.\n",
    "\n",
    "companyTicker = requests.get(\n",
    "    \"https://www.sec.gov/files/company_tickers.json\", \n",
    "    headers=headers\n",
    "    )\n",
    "\n",
    "# \n",
    "# print(companyTicker.json().keys()) <- it returns almost 10.000 entry\n",
    "\n",
    "firstEntry = companyTicker.json()['0']\n",
    "directCik = companyTicker.json()['0']['cik_str']\n",
    "allinfo = companyTicker.json()['0']['title'], companyTicker.json()['0']['cik_str'], companyTicker.json()['0']['ticker']\n"
   ]
  },
  {
   "attachments": {},
   "cell_type": "markdown",
   "metadata": {},
   "source": [
    "## Print the info of index 0 from SEC api - Should be Apple.\n",
    "\n",
    "All the info in the SEC API are indexed by CIK number (it's a 10 digit)"
   ]
  },
  {
   "cell_type": "code",
   "execution_count": 7,
   "metadata": {},
   "outputs": [
    {
     "name": "stdout",
     "output_type": "stream",
     "text": [
      "('Apple Inc.', 320193, 'AAPL')\n"
     ]
    }
   ],
   "source": [
    "# this should return Apple which is the index[0] in SEC database CIK.\n",
    "print(allinfo)"
   ]
  },
  {
   "cell_type": "code",
   "execution_count": 8,
   "metadata": {},
   "outputs": [
    {
     "data": {
      "text/plain": [
       "320193"
      ]
     },
     "execution_count": 8,
     "metadata": {},
     "output_type": "execute_result"
    }
   ],
   "source": [
    "directCik"
   ]
  },
  {
   "cell_type": "code",
   "execution_count": 9,
   "metadata": {},
   "outputs": [],
   "source": [
    "companyData = pd.DataFrame.from_dict(companyTicker.json(),\n",
    "                                     orient='index')"
   ]
  },
  {
   "cell_type": "markdown",
   "metadata": {},
   "source": []
  },
  {
   "cell_type": "code",
   "execution_count": 10,
   "metadata": {},
   "outputs": [
    {
     "data": {
      "text/html": [
       "<div>\n",
       "<style scoped>\n",
       "    .dataframe tbody tr th:only-of-type {\n",
       "        vertical-align: middle;\n",
       "    }\n",
       "\n",
       "    .dataframe tbody tr th {\n",
       "        vertical-align: top;\n",
       "    }\n",
       "\n",
       "    .dataframe thead th {\n",
       "        text-align: right;\n",
       "    }\n",
       "</style>\n",
       "<table border=\"1\" class=\"dataframe\">\n",
       "  <thead>\n",
       "    <tr style=\"text-align: right;\">\n",
       "      <th></th>\n",
       "      <th>cik_str</th>\n",
       "      <th>ticker</th>\n",
       "      <th>title</th>\n",
       "    </tr>\n",
       "  </thead>\n",
       "  <tbody>\n",
       "    <tr>\n",
       "      <th>0</th>\n",
       "      <td>320193</td>\n",
       "      <td>AAPL</td>\n",
       "      <td>Apple Inc.</td>\n",
       "    </tr>\n",
       "    <tr>\n",
       "      <th>1</th>\n",
       "      <td>789019</td>\n",
       "      <td>MSFT</td>\n",
       "      <td>MICROSOFT CORP</td>\n",
       "    </tr>\n",
       "    <tr>\n",
       "      <th>2</th>\n",
       "      <td>1652044</td>\n",
       "      <td>GOOGL</td>\n",
       "      <td>Alphabet Inc.</td>\n",
       "    </tr>\n",
       "    <tr>\n",
       "      <th>3</th>\n",
       "      <td>1018724</td>\n",
       "      <td>AMZN</td>\n",
       "      <td>AMAZON COM INC</td>\n",
       "    </tr>\n",
       "    <tr>\n",
       "      <th>4</th>\n",
       "      <td>1067983</td>\n",
       "      <td>BRK-B</td>\n",
       "      <td>BERKSHIRE HATHAWAY INC</td>\n",
       "    </tr>\n",
       "    <tr>\n",
       "      <th>...</th>\n",
       "      <td>...</td>\n",
       "      <td>...</td>\n",
       "      <td>...</td>\n",
       "    </tr>\n",
       "    <tr>\n",
       "      <th>9525</th>\n",
       "      <td>1866816</td>\n",
       "      <td>OLITU</td>\n",
       "      <td>OmniLit Acquisition Corp.</td>\n",
       "    </tr>\n",
       "    <tr>\n",
       "      <th>9526</th>\n",
       "      <td>1653384</td>\n",
       "      <td>RWAYZ</td>\n",
       "      <td>Runway Growth Finance Corp.</td>\n",
       "    </tr>\n",
       "    <tr>\n",
       "      <th>9527</th>\n",
       "      <td>1822791</td>\n",
       "      <td>CLNNW</td>\n",
       "      <td>Clene Inc.</td>\n",
       "    </tr>\n",
       "    <tr>\n",
       "      <th>9528</th>\n",
       "      <td>1856724</td>\n",
       "      <td>BPACW</td>\n",
       "      <td>Bullpen Parlay Acquisition Co</td>\n",
       "    </tr>\n",
       "    <tr>\n",
       "      <th>9529</th>\n",
       "      <td>1853816</td>\n",
       "      <td>DRMAW</td>\n",
       "      <td>Dermata Therapeutics, Inc.</td>\n",
       "    </tr>\n",
       "  </tbody>\n",
       "</table>\n",
       "<p>9530 rows × 3 columns</p>\n",
       "</div>"
      ],
      "text/plain": [
       "      cik_str ticker                          title\n",
       "0      320193   AAPL                     Apple Inc.\n",
       "1      789019   MSFT                 MICROSOFT CORP\n",
       "2     1652044  GOOGL                  Alphabet Inc.\n",
       "3     1018724   AMZN                 AMAZON COM INC\n",
       "4     1067983  BRK-B         BERKSHIRE HATHAWAY INC\n",
       "...       ...    ...                            ...\n",
       "9525  1866816  OLITU      OmniLit Acquisition Corp.\n",
       "9526  1653384  RWAYZ    Runway Growth Finance Corp.\n",
       "9527  1822791  CLNNW                     Clene Inc.\n",
       "9528  1856724  BPACW  Bullpen Parlay Acquisition Co\n",
       "9529  1853816  DRMAW     Dermata Therapeutics, Inc.\n",
       "\n",
       "[9530 rows x 3 columns]"
      ]
     },
     "execution_count": 10,
     "metadata": {},
     "output_type": "execute_result"
    }
   ],
   "source": [
    "companyData"
   ]
  },
  {
   "cell_type": "code",
   "execution_count": 12,
   "metadata": {},
   "outputs": [],
   "source": [
    "companyData = pd.DataFrame.from_dict(companyTicker.json(),\n",
    "                                     orient='index')\n",
    "companyData['cik_str'] = companyData['cik_str'].astype(str).str.zfill(10)"
   ]
  },
  {
   "cell_type": "code",
   "execution_count": 17,
   "metadata": {},
   "outputs": [
    {
     "data": {
      "text/html": [
       "<div>\n",
       "<style scoped>\n",
       "    .dataframe tbody tr th:only-of-type {\n",
       "        vertical-align: middle;\n",
       "    }\n",
       "\n",
       "    .dataframe tbody tr th {\n",
       "        vertical-align: top;\n",
       "    }\n",
       "\n",
       "    .dataframe thead th {\n",
       "        text-align: right;\n",
       "    }\n",
       "</style>\n",
       "<table border=\"1\" class=\"dataframe\">\n",
       "  <thead>\n",
       "    <tr style=\"text-align: right;\">\n",
       "      <th></th>\n",
       "      <th>cik_str</th>\n",
       "      <th>ticker</th>\n",
       "      <th>title</th>\n",
       "    </tr>\n",
       "  </thead>\n",
       "  <tbody>\n",
       "    <tr>\n",
       "      <th>0</th>\n",
       "      <td>0000320193</td>\n",
       "      <td>AAPL</td>\n",
       "      <td>Apple Inc.</td>\n",
       "    </tr>\n",
       "  </tbody>\n",
       "</table>\n",
       "</div>"
      ],
      "text/plain": [
       "      cik_str ticker       title\n",
       "0  0000320193   AAPL  Apple Inc."
      ]
     },
     "execution_count": 17,
     "metadata": {},
     "output_type": "execute_result"
    }
   ],
   "source": [
    "companyData[:1]"
   ]
  },
  {
   "cell_type": "code",
   "execution_count": 21,
   "metadata": {},
   "outputs": [
    {
     "data": {
      "text/plain": [
       "'0000320193'"
      ]
     },
     "execution_count": 21,
     "metadata": {},
     "output_type": "execute_result"
    }
   ],
   "source": [
    "cik = companyData[0:1].cik_str[0]\n",
    "cik"
   ]
  },
  {
   "cell_type": "code",
   "execution_count": null,
   "metadata": {},
   "outputs": [],
   "source": []
  }
 ],
 "metadata": {
  "kernelspec": {
   "display_name": "Python 3",
   "language": "python",
   "name": "python3"
  },
  "language_info": {
   "codemirror_mode": {
    "name": "ipython",
    "version": 3
   },
   "file_extension": ".py",
   "mimetype": "text/x-python",
   "name": "python",
   "nbconvert_exporter": "python",
   "pygments_lexer": "ipython3",
   "version": "3.11.3"
  },
  "orig_nbformat": 4
 },
 "nbformat": 4,
 "nbformat_minor": 2
}
